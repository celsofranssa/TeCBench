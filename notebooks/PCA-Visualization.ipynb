{
 "cells": [
  {
   "cell_type": "code",
   "execution_count": null,
   "id": "6e0adacd-d4c5-4407-ada5-a9d893482e45",
   "metadata": {},
   "outputs": [],
   "source": [
    "import os\n",
    "import yaml\n",
    "\n",
    "import sys\n",
    "sys.path.append('../')\n",
    "\n",
    "from source.helper.PcaHelper import PcaHelper"
   ]
  },
  {
   "cell_type": "code",
   "execution_count": null,
   "id": "54f71368-7819-425e-9206-9b8c2e4bd546",
   "metadata": {},
   "outputs": [],
   "source": [
    "with open('../settings/settings.yaml', 'r') as file:\n",
    "    params = yaml.safe_load(file)\n",
    "    \n",
    "params"
   ]
  },
  {
   "cell_type": "code",
   "execution_count": null,
   "id": "2de2d513-8db7-4a64-ba5d-c6cc651e5cbd",
   "metadata": {},
   "outputs": [],
   "source": []
  }
 ],
 "metadata": {
  "kernelspec": {
   "display_name": "python-ds-env",
   "language": "python",
   "name": "python-ds-env"
  },
  "language_info": {
   "codemirror_mode": {
    "name": "ipython",
    "version": 3
   },
   "file_extension": ".py",
   "mimetype": "text/x-python",
   "name": "python",
   "nbconvert_exporter": "python",
   "pygments_lexer": "ipython3",
   "version": "3.7.12"
  }
 },
 "nbformat": 4,
 "nbformat_minor": 5
}
