{
 "cells": [
  {
   "cell_type": "code",
   "execution_count": 1,
   "id": "2a71eb98-30f3-4625-b177-bdc1f7e0e7a9",
   "metadata": {},
   "outputs": [],
   "source": [
    "class PDF(object):\n",
    "    def __init__(self, pdf, size=(200,200)):\n",
    "        self.pdf = pdf\n",
    "        self.size = size\n",
    "\n",
    "    def _repr_html_(self):\n",
    "        return '<iframe src={0} width={1[0]} height={1[1]}></iframe>'.format(self.pdf, self.size)\n",
    "\n",
    "    def _repr_latex_(self):\n",
    "        return r'\\includegraphics[width=1.0\\textwidth]{{{0}}}'.format(self.pdf)"
   ]
  },
  {
   "cell_type": "markdown",
   "id": "2f6876ca-cb85-4848-a9ab-1079d8782d10",
   "metadata": {},
   "source": [
    "# BERT_WEBKB"
   ]
  },
  {
   "cell_type": "code",
   "execution_count": 2,
   "id": "8cde7623-aed6-4394-8807-d9aaf288fd4e",
   "metadata": {},
   "outputs": [],
   "source": [
    "dataset=\"BERT_WEBKB\""
   ]
  },
  {
   "cell_type": "markdown",
   "id": "3e9426e4-680a-4b45-b49e-c0524acd06db",
   "metadata": {},
   "source": [
    "## Fold 0"
   ]
  },
  {
   "cell_type": "code",
   "execution_count": 13,
   "id": "7a67af15-f494-458b-9a42-f0fda0a6b93e",
   "metadata": {},
   "outputs": [
    {
     "data": {
      "text/html": [
       "<iframe src=BERT_WEBKB/0.pdf width=500 height=500></iframe>"
      ],
      "text/latex": [
       "\\includegraphics[width=1.0\\textwidth]{BERT_WEBKB/0.pdf}"
      ],
      "text/plain": [
       "<__main__.PDF at 0x7f234c05e370>"
      ]
     },
     "execution_count": 13,
     "metadata": {},
     "output_type": "execute_result"
    }
   ],
   "source": [
    "PDF(f'{dataset}/0.pdf', (500, 500))"
   ]
  },
  {
   "cell_type": "markdown",
   "id": "1fabddae-31f6-4322-95d5-598aa8e5d1ae",
   "metadata": {},
   "source": [
    "## Fold 1"
   ]
  },
  {
   "cell_type": "code",
   "execution_count": 4,
   "id": "bce4103c-bf52-4d9e-9ae8-e2d0991a339e",
   "metadata": {},
   "outputs": [
    {
     "data": {
      "text/html": [
       "<iframe src=BERT_WEBKB/1.pdf width=500 height=500></iframe>"
      ],
      "text/latex": [
       "\\includegraphics[width=1.0\\textwidth]{BERT_WEBKB/1.pdf}"
      ],
      "text/plain": [
       "<__main__.PDF at 0x7f234c0a5f10>"
      ]
     },
     "execution_count": 4,
     "metadata": {},
     "output_type": "execute_result"
    }
   ],
   "source": [
    "PDF(f'{dataset}/1.pdf', (500, 500))"
   ]
  },
  {
   "cell_type": "markdown",
   "id": "05cc5b32-9b80-4fe6-a82d-34e59ecef1fb",
   "metadata": {},
   "source": [
    "## Fold 2"
   ]
  },
  {
   "cell_type": "code",
   "execution_count": 5,
   "id": "3480bf11-b43c-4602-bca3-f73823c8984d",
   "metadata": {},
   "outputs": [
    {
     "data": {
      "text/html": [
       "<iframe src=BERT_WEBKB/2.pdf width=500 height=500></iframe>"
      ],
      "text/latex": [
       "\\includegraphics[width=1.0\\textwidth]{BERT_WEBKB/2.pdf}"
      ],
      "text/plain": [
       "<__main__.PDF at 0x7f234c0a53a0>"
      ]
     },
     "execution_count": 5,
     "metadata": {},
     "output_type": "execute_result"
    }
   ],
   "source": [
    "PDF(f'{dataset}/2.pdf', (500, 500))"
   ]
  },
  {
   "cell_type": "markdown",
   "id": "be5d21c4-647f-479b-97c0-d4e15723c766",
   "metadata": {},
   "source": [
    "## Fold 3"
   ]
  },
  {
   "cell_type": "code",
   "execution_count": 6,
   "id": "f5e6568e-f5ac-4d6b-a44f-0371421b4dba",
   "metadata": {},
   "outputs": [
    {
     "data": {
      "text/html": [
       "<iframe src=BERT_WEBKB/3.pdf width=500 height=500></iframe>"
      ],
      "text/latex": [
       "\\includegraphics[width=1.0\\textwidth]{BERT_WEBKB/3.pdf}"
      ],
      "text/plain": [
       "<__main__.PDF at 0x7f234c05e5e0>"
      ]
     },
     "execution_count": 6,
     "metadata": {},
     "output_type": "execute_result"
    }
   ],
   "source": [
    "PDF(f'{dataset}/3.pdf', (500, 500))"
   ]
  },
  {
   "cell_type": "markdown",
   "id": "92fda121-5e7e-4372-b03c-1ac9d666ea0d",
   "metadata": {},
   "source": [
    "## Fold 4"
   ]
  },
  {
   "cell_type": "code",
   "execution_count": 7,
   "id": "c0a3c56b-1eb0-45fe-b56b-8a28340667b2",
   "metadata": {},
   "outputs": [
    {
     "data": {
      "text/html": [
       "<iframe src=BERT_WEBKB/4.pdf width=500 height=500></iframe>"
      ],
      "text/latex": [
       "\\includegraphics[width=1.0\\textwidth]{BERT_WEBKB/4.pdf}"
      ],
      "text/plain": [
       "<__main__.PDF at 0x7f234c0a5820>"
      ]
     },
     "execution_count": 7,
     "metadata": {},
     "output_type": "execute_result"
    }
   ],
   "source": [
    "PDF(f'{dataset}/4.pdf', (500, 500))"
   ]
  },
  {
   "cell_type": "markdown",
   "id": "c95ce2db-c1f4-4022-bf56-e15ebee9eaf8",
   "metadata": {},
   "source": [
    "## Fold 5"
   ]
  },
  {
   "cell_type": "code",
   "execution_count": 8,
   "id": "067f27df-b738-4271-ab06-dfdb62aa2c3a",
   "metadata": {},
   "outputs": [
    {
     "data": {
      "text/html": [
       "<iframe src=BERT_WEBKB/5.pdf width=500 height=500></iframe>"
      ],
      "text/latex": [
       "\\includegraphics[width=1.0\\textwidth]{BERT_WEBKB/5.pdf}"
      ],
      "text/plain": [
       "<__main__.PDF at 0x7f234c05e190>"
      ]
     },
     "execution_count": 8,
     "metadata": {},
     "output_type": "execute_result"
    }
   ],
   "source": [
    "PDF(f'{dataset}/5.pdf', (500, 500))"
   ]
  },
  {
   "cell_type": "markdown",
   "id": "334c0482-d113-4512-868e-01dfc72e63f0",
   "metadata": {},
   "source": [
    "## Fold 6"
   ]
  },
  {
   "cell_type": "code",
   "execution_count": 9,
   "id": "244de334-e150-41c8-b28d-f31e45f266df",
   "metadata": {},
   "outputs": [
    {
     "data": {
      "text/html": [
       "<iframe src=BERT_WEBKB/6.pdf width=500 height=500></iframe>"
      ],
      "text/latex": [
       "\\includegraphics[width=1.0\\textwidth]{BERT_WEBKB/6.pdf}"
      ],
      "text/plain": [
       "<__main__.PDF at 0x7f234c05e790>"
      ]
     },
     "execution_count": 9,
     "metadata": {},
     "output_type": "execute_result"
    }
   ],
   "source": [
    "PDF(f'{dataset}/6.pdf', (500, 500))"
   ]
  },
  {
   "cell_type": "markdown",
   "id": "d70979e2-379b-4a76-91d2-04611b4721f7",
   "metadata": {},
   "source": [
    "## Fold 7"
   ]
  },
  {
   "cell_type": "code",
   "execution_count": 10,
   "id": "51a132c6-a48e-464e-bbce-7195cb401655",
   "metadata": {},
   "outputs": [
    {
     "data": {
      "text/html": [
       "<iframe src=BERT_WEBKB/7.pdf width=500 height=500></iframe>"
      ],
      "text/latex": [
       "\\includegraphics[width=1.0\\textwidth]{BERT_WEBKB/7.pdf}"
      ],
      "text/plain": [
       "<__main__.PDF at 0x7f234c05e880>"
      ]
     },
     "execution_count": 10,
     "metadata": {},
     "output_type": "execute_result"
    }
   ],
   "source": [
    "PDF(f'{dataset}/7.pdf', (500, 500))"
   ]
  },
  {
   "cell_type": "markdown",
   "id": "0914dbeb-4fbb-4d00-9d36-6cea884a4986",
   "metadata": {},
   "source": [
    "## Fold 8"
   ]
  },
  {
   "cell_type": "code",
   "execution_count": 11,
   "id": "b22b8b49-ce0e-4a70-8221-e22010c1ef3c",
   "metadata": {},
   "outputs": [
    {
     "data": {
      "text/html": [
       "<iframe src=BERT_WEBKB/8.pdf width=500 height=500></iframe>"
      ],
      "text/latex": [
       "\\includegraphics[width=1.0\\textwidth]{BERT_WEBKB/8.pdf}"
      ],
      "text/plain": [
       "<__main__.PDF at 0x7f234c05e940>"
      ]
     },
     "execution_count": 11,
     "metadata": {},
     "output_type": "execute_result"
    }
   ],
   "source": [
    "PDF(f'{dataset}/8.pdf', (500, 500))"
   ]
  },
  {
   "cell_type": "markdown",
   "id": "7e4ac68f-078a-4974-86d1-3313a8c521d9",
   "metadata": {},
   "source": [
    "## Fold 9"
   ]
  },
  {
   "cell_type": "code",
   "execution_count": 12,
   "id": "bc3ea390-027c-457a-b464-b3903884f476",
   "metadata": {},
   "outputs": [
    {
     "data": {
      "text/html": [
       "<iframe src=BERT_WEBKB/9.pdf width=500 height=500></iframe>"
      ],
      "text/latex": [
       "\\includegraphics[width=1.0\\textwidth]{BERT_WEBKB/9.pdf}"
      ],
      "text/plain": [
       "<__main__.PDF at 0x7f234c05ed60>"
      ]
     },
     "execution_count": 12,
     "metadata": {},
     "output_type": "execute_result"
    }
   ],
   "source": [
    "PDF(f'{dataset}/9.pdf', (500, 500))"
   ]
  }
 ],
 "metadata": {
  "kernelspec": {
   "display_name": "venv",
   "language": "python",
   "name": "venv"
  },
  "language_info": {
   "codemirror_mode": {
    "name": "ipython",
    "version": 3
   },
   "file_extension": ".py",
   "mimetype": "text/x-python",
   "name": "python",
   "nbconvert_exporter": "python",
   "pygments_lexer": "ipython3",
   "version": "3.8.10"
  }
 },
 "nbformat": 4,
 "nbformat_minor": 5
}
